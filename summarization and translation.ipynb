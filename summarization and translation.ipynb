{
 "cells": [
  {
   "cell_type": "code",
   "execution_count": 1,
   "id": "90aebfab-ff20-491d-9f35-f8c9f9d6ecd9",
   "metadata": {},
   "outputs": [],
   "source": [
    "#for summarization\n",
    "from youtube_transcript_api import YouTubeTranscriptApi\n",
    "import re\n",
    "from transformers import pipeline\n",
    "\n",
    "def extract_video_id(url):\n",
    "    # Extract video ID from the YouTube URL\n",
    "    match = re.search(r\"(?:v=|\\/)([a-zA-Z0-9_-]{11}).*\", url)\n",
    "    if match:\n",
    "        return match.group(1)\n",
    "    else:\n",
    "        return None\n",
    "\n",
    "def get_auto_captions(youtube_url):\n",
    "    video_id = extract_video_id(youtube_url)\n",
    "    transcript_text = \"\"\n",
    "    \n",
    "    if video_id:\n",
    "        try:\n",
    "            transcript = YouTubeTranscriptApi.get_transcript(video_id)\n",
    "            transcript_text = \" \".join([entry['text'] for entry in transcript])\n",
    "            transcript_length = len(transcript_text)\n",
    "            return transcript_text, transcript_length\n",
    "        except Exception as e:\n",
    "            print(f\"Error fetching auto-generated captions: {e}\")\n",
    "            return None, None\n",
    "    else:\n",
    "        print(\"Invalid YouTube URL. Please provide a valid video URL.\")\n",
    "        return None, None\n",
    "\n"
   ]
  },
  {
   "cell_type": "code",
   "execution_count": 2,
   "id": "33886cc0-ef5c-4faa-aa6f-8b7ad86814e7",
   "metadata": {},
   "outputs": [
    {
     "name": "stderr",
     "output_type": "stream",
     "text": [
      "No model was supplied, defaulted to sshleifer/distilbart-cnn-12-6 and revision a4f8f3e (https://huggingface.co/sshleifer/distilbart-cnn-12-6).\n",
      "Using a pipeline without specifying a model name and revision in production is not recommended.\n"
     ]
    },
    {
     "name": "stdout",
     "output_type": "stream",
     "text": [
      "WARNING:tensorflow:From C:\\Users\\hp\\8th sem\\NLP\\NLP\\env\\Lib\\site-packages\\tf_keras\\src\\losses.py:2976: The name tf.losses.sparse_softmax_cross_entropy is deprecated. Please use tf.compat.v1.losses.sparse_softmax_cross_entropy instead.\n",
      "\n"
     ]
    }
   ],
   "source": [
    "summarizer = pipeline('summarization',max_length=56)"
   ]
  },
  {
   "cell_type": "code",
   "execution_count": 3,
   "id": "773e65c4-e94b-482f-8980-3e31dccd9765",
   "metadata": {},
   "outputs": [],
   "source": [
    "def summarize(youtube_url, summarizer, max_length=56):\n",
    "    # Call get_auto_captions to retrieve transcript text and length\n",
    "    transcript, transcript_length = get_auto_captions(youtube_url)\n",
    "    \n",
    "    if transcript:\n",
    "        num_iters = int(transcript_length / 1000)\n",
    "        summarized_text = []\n",
    "\n",
    "        for i in range(0, num_iters + 1):\n",
    "            start = i * 1000\n",
    "            end = (i + 1) * 1000\n",
    "            input_text = transcript[start:end]\n",
    "            #print(\"Input text:\\n\", input_text)\n",
    "\n",
    "            out = summarizer(input_text, max_length=max_length)\n",
    "            out = out[0]\n",
    "            out = out['summary_text']\n",
    "\n",
    "            #print(\"Summarized text:\\n\", out)\n",
    "            summarized_text.append(out)\n",
    "        \n",
    "        return str(summarized_text)\n",
    "    else:\n",
    "        print(\"Failed to retrieve transcript from the YouTube video.\")\n",
    "        return None\n",
    "\n",
    "\n"
   ]
  },
  {
   "cell_type": "code",
   "execution_count": 4,
   "id": "81cd0f55-ed24-4dec-b82d-5ab3cee092e3",
   "metadata": {},
   "outputs": [],
   "source": [
    "from transformers import pipeline\n",
    "import warnings\n"
   ]
  },
  {
   "cell_type": "code",
   "execution_count": 5,
   "id": "3aebcd1b-f817-4278-a1f6-ac0bc9915e18",
   "metadata": {},
   "outputs": [],
   "source": [
    "# Suppress warnings\n",
    "warnings.filterwarnings(\"ignore\")"
   ]
  },
  {
   "cell_type": "code",
   "execution_count": 6,
   "id": "e97809c4-abe8-4a25-9363-37f6758d3cd3",
   "metadata": {},
   "outputs": [],
   "source": [
    "from transformers import AutoTokenizer, AutoModelForSeq2SeqLM, pipeline\n"
   ]
  },
  {
   "cell_type": "code",
   "execution_count": 7,
   "id": "2040e689-3372-46ea-b0ac-f11ef83a798d",
   "metadata": {},
   "outputs": [],
   "source": [
    "model = AutoModelForSeq2SeqLM.from_pretrained(\"facebook/nllb-200-distilled-600M\")\n",
    "tokenizer = AutoTokenizer.from_pretrained(\"facebook/nllb-200-distilled-600M\")"
   ]
  },
  {
   "cell_type": "code",
   "execution_count": 8,
   "id": "86c5e883-c782-43f6-b735-32dd2495a226",
   "metadata": {},
   "outputs": [],
   "source": [
    "translator = pipeline('translation', model=model, tokenizer=tokenizer, src_lang=\"eng_Latn\", tgt_lang='tam_Taml', max_length = 400)"
   ]
  },
  {
   "cell_type": "code",
   "execution_count": 9,
   "id": "6db8fb17-fadc-4e4c-b9c5-1f19213c5910",
   "metadata": {},
   "outputs": [],
   "source": [
    "def translate(text, tgt_lang):\n",
    "    translator = pipeline('translation', model=model, tokenizer=tokenizer, src_lang=\"eng_Latn\", tgt_lang=tgt_lang)\n",
    "    translated_text = translator(text[:1024])[0]['translation_text']\n",
    "    return translated_text"
   ]
  },
  {
   "cell_type": "code",
   "execution_count": 10,
   "id": "6a02c6e4-80e5-4949-a588-e56b8218969a",
   "metadata": {},
   "outputs": [],
   "source": [
    "def summarize_video(youtube_url):\n",
    "    # Define the summarizer\n",
    "    summarizer = pipeline('summarization', max_length=56)\n",
    "    \n",
    "    # Call summarize_video function to retrieve transcript and summarize\n",
    "    summarized_text = summarize(youtube_url, summarizer)\n",
    "    \n",
    "    if summarized_text:\n",
    "        return str(summarized_text)\n",
    "    else:\n",
    "        return \"Failed to retrieve or summarize the video captions.\"\n"
   ]
  },
  {
   "cell_type": "code",
   "execution_count": 11,
   "id": "2b4782db-d335-42ca-afdf-a59b4503b162",
   "metadata": {},
   "outputs": [],
   "source": [
    "import gradio as gr"
   ]
  },
  {
   "cell_type": "code",
   "execution_count": 16,
   "id": "6c1dc15f-74eb-4b52-8e69-09c519e58d2a",
   "metadata": {},
   "outputs": [
    {
     "name": "stdout",
     "output_type": "stream",
     "text": [
      "IMPORTANT: You are using gradio version 4.21.0, however version 4.29.0 is available, please upgrade.\n",
      "--------\n"
     ]
    }
   ],
   "source": [
    "with gr.Blocks() as demo:\n",
    "    with gr.Row():\n",
    "        heading = gr.HTML(\"<h1 style='text-align:center; margin-top: 50px; margin-bottom: 20px; font-family:Bebas Neue; font-size: 40px; color:#126180;'>LANGUAGE SHUFFLE</h1>\" + \"<br>\")\n",
    "        with gr.Column():\n",
    "            youtube_url = gr.components.Textbox(lines=1, placeholder='YouTube video URL')\n",
    "            submit_btn = gr.components.Button(\"Submit\")\n",
    "            output = gr.components.Textbox(lines=2, label='Captions')\n",
    "\n",
    "            submit_btn.click(fn=summarize_video, inputs=youtube_url, outputs=output)\n",
    "\n",
    "        with gr.Column():\n",
    "            tgt_lang = gr.components.Dropdown(choices=[('hindi', 'hin_Deva'), ('telugu', 'tel_Telu'), ('kanada', 'kan_Knda'), ('tamil', 'tam_Taml'), ('malayalam', 'mal_Mlym')], label='Target Language', visible=True)\n",
    "            trans= gr.components.Textbox(lines=2, label='Translated Text')\n",
    "           \n",
    "            translate_btn = gr.Button('Translate')\n",
    "\n",
    "            translate_btn.click(translate, inputs=[output, tgt_lang], outputs=trans)\n"
   ]
  },
  {
   "cell_type": "code",
   "execution_count": 18,
   "id": "7adb96e1-702f-4d44-920f-2cdc81a8ddad",
   "metadata": {},
   "outputs": [
    {
     "name": "stdout",
     "output_type": "stream",
     "text": [
      "Running on local URL:  http://127.0.0.1:7881\n",
      "\n",
      "Could not create share link. Please check your internet connection or our status page: https://status.gradio.app.\n"
     ]
    },
    {
     "data": {
      "text/html": [
       "<div><iframe src=\"http://127.0.0.1:7881/\" width=\"100%\" height=\"500\" allow=\"autoplay; camera; microphone; clipboard-read; clipboard-write;\" frameborder=\"0\" allowfullscreen></iframe></div>"
      ],
      "text/plain": [
       "<IPython.core.display.HTML object>"
      ]
     },
     "metadata": {},
     "output_type": "display_data"
    }
   ],
   "source": [
    "iface = demo.launch(share=True, inbrowser=True)"
   ]
  },
  {
   "cell_type": "code",
   "execution_count": null,
   "id": "fd061250-5b65-4c3a-afd1-9e31827940c4",
   "metadata": {},
   "outputs": [],
   "source": []
  }
 ],
 "metadata": {
  "kernelspec": {
   "display_name": "local-venv",
   "language": "python",
   "name": "local-venv"
  },
  "language_info": {
   "codemirror_mode": {
    "name": "ipython",
    "version": 3
   },
   "file_extension": ".py",
   "mimetype": "text/x-python",
   "name": "python",
   "nbconvert_exporter": "python",
   "pygments_lexer": "ipython3",
   "version": "3.12.0"
  }
 },
 "nbformat": 4,
 "nbformat_minor": 5
}
